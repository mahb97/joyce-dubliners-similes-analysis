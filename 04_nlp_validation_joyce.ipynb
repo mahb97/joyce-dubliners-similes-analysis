{
  "nbformat": 4,
  "nbformat_minor": 0,
  "metadata": {
    "colab": {
      "provenance": [],
      "include_colab_link": true
    },
    "kernelspec": {
      "name": "python3",
      "display_name": "Python 3"
    },
    "language_info": {
      "name": "python"
    }
  },
  "cells": [
    {
      "cell_type": "markdown",
      "metadata": {
        "id": "view-in-github",
        "colab_type": "text"
      },
      "source": [
        "<a href=\"https://colab.research.google.com/github/mahb97/nlp-tagging-validation-joyce/blob/main/04_nlp_validation_joyce.ipynb\" target=\"_parent\"><img src=\"https://colab.research.google.com/assets/colab-badge.svg\" alt=\"Open In Colab\"/></a>"
      ]
    },
    {
      "cell_type": "markdown",
      "metadata": {
        "id": "title"
      },
      "source": [
        "# NLP Tagging Validation for Joyce's Dubliners\n",
        "\n",
        "This notebook validates modern NLP POS tagging tools against expert CLAWS7 annotations for simile sentences from James Joyce's *Dubliners*.\n",
        "\n",
        "## Research Objectives\n",
        "- Compare accuracy of spaCy, NLTK, Flair, Stanza, TextBlob against CLAWS7 annotations\n",
        "- Identify systematic tagging errors in literary text processing\n",
        "- Analyze Joyce-specific linguistic challenges for computational tools"
      ]
    },
    {
      "cell_type": "code",
      "execution_count": null,
      "metadata": {
        "id": "setup"
      },
      "outputs": [],
      "source": [
        "# Install and setup NLP libraries\n",
        "print(\"Installing NLP libraries...\")\n",
        "!pip install -q spacy nltk flair stanza textblob scikit-learn plotly seaborn wordcloud\n",
        "\n",
        "print(\"Downloading spaCy models...\")\n",
        "!python -m spacy download en_core_web_sm\n",
        "!python -m spacy download en_core_web_lg\n",
        "\n",
        "print(\"Downloading NLTK data...\")\n",
        "import nltk\n",
        "nltk.download('punkt', quiet=True)\n",
        "nltk.download('averaged_perceptron_tagger', quiet=True)\n",
        "nltk.download('wordnet', quiet=True)\n",
        "\n",
        "print(\"Setup complete!\")"
      ]
    },
    {
      "cell_type": "code",
      "execution_count": null,
      "metadata": {
        "id": "imports"
      },
      "outputs": [],
      "source": [
        "# Import all required libraries\n",
        "import pandas as pd\n",
        "import numpy as np\n",
        "import json\n",
        "import time\n",
        "from datetime import datetime\n",
        "import warnings\n",
        "warnings.filterwarnings('ignore')\n",
        "\n",
        "# NLP libraries\n",
        "import spacy\n",
        "from nltk.tokenize import word_tokenize\n",
        "from nltk.tag import pos_tag\n",
        "from flair.data import Sentence\n",
        "from flair.models import SequenceTagger\n",
        "from textblob import TextBlob\n",
        "import stanza\n",
        "\n",
        "# Analysis libraries\n",
        "from sklearn.metrics import accuracy_score, precision_recall_fscore_support\n",
        "from collections import defaultdict, Counter\n",
        "\n",
        "# Visualization libraries\n",
        "import matplotlib.pyplot as plt\n",
        "import seaborn as sns\n",
        "import plotly.express as px\n",
        "import plotly.graph_objects as go\n",
        "from plotly.subplots import make_subplots\n",
        "\n",
        "print(\"All libraries imported successfully!\")"
      ]
    },
    {
      "cell_type": "code",
      "execution_count": null,
      "metadata": {
        "id": "upload_data"
      },
      "outputs": [],
      "source": [
        "# Upload CSV file\n",
        "from google.colab import files\n",
        "print(\"Please upload your 'All Similes - Dubliners cont.csv' file:\")\n",
        "uploaded = files.upload()\n",
        "\n",
        "# Load the data\n",
        "csv_filename = list(uploaded.keys())[0]\n",
        "df = pd.read_csv(csv_filename)\n",
        "\n",
        "print(f\"Loaded {len(df)} rows\")\n",
        "print(f\"Columns: {list(df.columns)}\")\n",
        "print(\"\\nFirst few rows:\")\n",
        "display(df[['Sentences', 'CLAWS']].head())"
      ]
    },
    {
      "cell_type": "code",
      "execution_count": null,
      "metadata": {
        "id": "process_data"
      },
      "outputs": [],
      "source": [
        "# Process CLAWS data\n",
        "def parse_claws_tags(claws_string):\n",
        "    \"\"\"Parse CLAWS7 format: 'word_TAG word_TAG ...'\"\"\"\n",
        "    if pd.isna(claws_string) or not claws_string.strip():\n",
        "        return [], []\n",
        "    \n",
        "    tokens = []\n",
        "    tags = []\n",
        "    \n",
        "    for item in claws_string.strip().split():\n",
        "        if '_' in item:\n",
        "            parts = item.rsplit('_', 1)\n",
        "            if len(parts) == 2:\n",
        "                word, tag = parts\n",
        "                tokens.append(word)\n",
        "                tags.append(tag)\n",
        "        else:\n",
        "            tokens.append(item)\n",
        "            tags.append('UNK')\n",
        "    \n",
        "    return tokens, tags\n",
        "\n",
        "def validate_token_alignment(sentence, tokens):\n",
        "    \"\"\"Check if parsed tokens align with original sentence\"\"\"\n",
        "    sentence_words = set(sentence.lower().split())\n",
        "    token_words = set([t.lower() for t in tokens if t.isalpha()])\n",
        "    \n",
        "    if not token_words:\n",
        "        return False\n",
        "    \n",
        "    overlap = len(sentence_words & token_words) / len(token_words)\n",
        "    return overlap >= 0.7\n",
        "\n",
        "# Process all sentences\n",
        "processed_data = []\n",
        "clean_df = df[['Sentences', 'CLAWS']].dropna()\n",
        "\n",
        "print(\"Processing CLAWS7 tagged sentences...\")\n",
        "\n",
        "for idx, row in clean_df.iterrows():\n",
        "    sentence = row['Sentences']\n",
        "    claws_string = row['CLAWS']\n",
        "    \n",
        "    tokens, tags = parse_claws_tags(claws_string)\n",
        "    \n",
        "    if tokens and tags and validate_token_alignment(sentence, tokens):\n",
        "        processed_data.append({\n",
        "            'id': len(processed_data) + 1,\n",
        "            'sentence': sentence,\n",
        "            'tokens': tokens,\n",
        "            'ground_truth_tags': tags,\n",
        "            'token_count': len(tokens)\n",
        "        })\n",
        "\n",
        "print(f\"Processed {len(processed_data)} valid sentences\")\n",
        "\n",
        "# Display sample\n",
        "if processed_data:\n",
        "    sample = processed_data[0]\n",
        "    print(f\"\\nSample sentence: {sample['sentence'][:80]}...\")\n",
        "    print(f\"Sample tags: {sample['ground_truth_tags'][:8]}...\")\n",
        "    print(f\"Average sentence length: {np.mean([s['token_count'] for s in processed_data]):.1f} tokens\")"
      ]
    },
    {
      "cell_type": "code",
      "execution_count": null,
      "metadata": {
        "id": "run_analysis"
      },
      "outputs": [],
      "source": [
       
        "\n",
        "print(\"Analysis will be implemented in this cell\")\n",
        "print(\"Copy the remaining code from the Python artifact here\")"
      ]
    }
  ]
}
